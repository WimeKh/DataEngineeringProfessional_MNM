{
  "nbformat": 4,
  "nbformat_minor": 0,
  "metadata": {
    "colab": {
      "name": "Assignment2_Practice.ipynb",
      "provenance": [],
      "collapsed_sections": [],
      "toc_visible": true,
      "authorship_tag": "ABX9TyMk2RuS0ER/WzZentc55oJi",
      "include_colab_link": true
    },
    "kernelspec": {
      "name": "python3",
      "display_name": "Python 3"
    },
    "language_info": {
      "name": "python"
    }
  },
  "cells": [
    {
      "cell_type": "markdown",
      "metadata": {
        "id": "view-in-github",
        "colab_type": "text"
      },
      "source": [
        "<a href=\"https://colab.research.google.com/github/WimeKh/DataEngineeringProfessional_MNM/blob/main/Assignment2_Practice.ipynb\" target=\"_parent\"><img src=\"https://colab.research.google.com/assets/colab-badge.svg\" alt=\"Open In Colab\"/></a>"
      ]
    },
    {
      "cell_type": "code",
      "execution_count": null,
      "metadata": {
        "id": "ky4QKAN0SEdX"
      },
      "outputs": [],
      "source": [
        ""
      ]
    },
    {
      "cell_type": "markdown",
      "source": [
        "**Section 2 Assignement:**\n",
        "\n",
        "\n",
        "\n",
        "Exercise 5: \n",
        "\n",
        "\n"
      ],
      "metadata": {
        "id": "oE97LIdXTn49"
      }
    },
    {
      "cell_type": "markdown",
      "source": [
        "Part 1:\n",
        "Print First 10 natural numbers using while loop"
      ],
      "metadata": {
        "id": "TAw6WcnBT93R"
      }
    },
    {
      "cell_type": "code",
      "source": [
        "i = 1\n",
        "while (i <=10):\n",
        "  print(i)\n",
        "  i+=1"
      ],
      "metadata": {
        "colab": {
          "base_uri": "https://localhost:8080/"
        },
        "id": "4qymb-03UBjO",
        "outputId": "67fa98fb-a036-4abd-8e69-def2a3b62803"
      },
      "execution_count": null,
      "outputs": [
        {
          "output_type": "stream",
          "name": "stdout",
          "text": [
            "1\n",
            "2\n",
            "3\n",
            "4\n",
            "5\n",
            "6\n",
            "7\n",
            "8\n",
            "9\n",
            "10\n"
          ]
        }
      ]
    },
    {
      "cell_type": "markdown",
      "source": [
        "Part 2:\n",
        "Print the following pattern"
      ],
      "metadata": {
        "id": "-Sl9ilaAVNB4"
      }
    },
    {
      "cell_type": "code",
      "source": [
        "n = int(input())\n",
        "i = 1\n",
        "k =\"\"\n",
        "while(i<n):\n",
        "  for j in range(1,n):\n",
        "    k= k+ \" \" +str(j)\n",
        "    i+=1\n",
        "    print(k)\n",
        "  \n"
      ],
      "metadata": {
        "colab": {
          "base_uri": "https://localhost:8080/"
        },
        "id": "DjlqvK-VVU25",
        "outputId": "ac84691d-150d-4742-8506-8feddd49a9b3"
      },
      "execution_count": null,
      "outputs": [
        {
          "output_type": "stream",
          "name": "stdout",
          "text": [
            "5\n",
            " 1\n",
            " 1 2\n",
            " 1 2 3\n",
            " 1 2 3 4\n"
          ]
        }
      ]
    },
    {
      "cell_type": "markdown",
      "source": [
        "Part 3:\n",
        "Calculate the sum of all numbers from 1 to a given number"
      ],
      "metadata": {
        "id": "bl9detWLYOSv"
      }
    },
    {
      "cell_type": "code",
      "source": [
        "j = 0\n",
        "n = int(input('Enter number '))\n",
        "for i in range(n+1):\n",
        "  j=j+i\n",
        "\n",
        "print('sum is: {0}' .format(j))"
      ],
      "metadata": {
        "colab": {
          "base_uri": "https://localhost:8080/"
        },
        "id": "cp8aDvzoYQ-d",
        "outputId": "991b38d7-1401-450b-feac-396617ec2429"
      },
      "execution_count": null,
      "outputs": [
        {
          "output_type": "stream",
          "name": "stdout",
          "text": [
            "Enter number 10\n",
            "sum is: 55\n"
          ]
        }
      ]
    },
    {
      "cell_type": "markdown",
      "source": [
        "Part 4:\n",
        "Write a program to print multiplication table of a given number"
      ],
      "metadata": {
        "id": "Jl1myauxaJCY"
      }
    },
    {
      "cell_type": "code",
      "source": [
        "n = int(input())\n",
        "for i in range(1,11):\n",
        "  print(i*n)"
      ],
      "metadata": {
        "colab": {
          "base_uri": "https://localhost:8080/"
        },
        "id": "a07-a4yqaLgA",
        "outputId": "40561879-94bb-440a-974b-fdaaebe5ac21"
      },
      "execution_count": null,
      "outputs": [
        {
          "output_type": "stream",
          "name": "stdout",
          "text": [
            "2\n",
            "2\n",
            "4\n",
            "6\n",
            "8\n",
            "10\n",
            "12\n",
            "14\n",
            "16\n",
            "18\n",
            "20\n"
          ]
        }
      ]
    },
    {
      "cell_type": "markdown",
      "source": [
        "Part 5:\n",
        "Display numbers from a list using loop\n"
      ],
      "metadata": {
        "id": "bjSEjNYmauUz"
      }
    },
    {
      "cell_type": "code",
      "source": [
        "list_nbr = [2, 75, 150, 180, 145, 525, 50]\n",
        "for i in range(len(list_nbr)):\n",
        "  if list_nbr[i] > 500:\n",
        "    break\n",
        "  if list_nbr[i] > 150:\n",
        "    continue\n",
        "  if list_nbr[i]%5 ==0:\n",
        "    print(list_nbr[i])"
      ],
      "metadata": {
        "colab": {
          "base_uri": "https://localhost:8080/"
        },
        "id": "4McgQ_3za9q3",
        "outputId": "8e500bd3-380e-4f33-c1d2-023ade7a8ec6"
      },
      "execution_count": null,
      "outputs": [
        {
          "output_type": "stream",
          "name": "stdout",
          "text": [
            "75\n",
            "150\n",
            "145\n"
          ]
        }
      ]
    },
    {
      "cell_type": "code",
      "source": [
        "list_nbr = [2, 75, 150, 180, 145, 525, 50]\n",
        "for i in (list_nbr):\n",
        "  if i > 500:\n",
        "    break\n",
        "  if i > 150:\n",
        "    continue\n",
        "  if i%5 ==0:\n",
        "    print(i)"
      ],
      "metadata": {
        "colab": {
          "base_uri": "https://localhost:8080/"
        },
        "id": "U4R4z7FLc4yk",
        "outputId": "898ebc79-3e32-4eb9-faee-576f7862d110"
      },
      "execution_count": null,
      "outputs": [
        {
          "output_type": "stream",
          "name": "stdout",
          "text": [
            "75\n",
            "150\n",
            "145\n"
          ]
        }
      ]
    },
    {
      "cell_type": "markdown",
      "source": [
        "Part 6:\n",
        "Count the total number of digits in a number"
      ],
      "metadata": {
        "id": "c0waE1vBew-r"
      }
    },
    {
      "cell_type": "code",
      "source": [
        "n = int(input())\n",
        "n_to_string = str(n)\n",
        "i = 0\n",
        "#print(len(n_to_string))\n",
        "while(i<len(n_to_string)):\n",
        "  i+=1\n",
        "print(i)\n"
      ],
      "metadata": {
        "colab": {
          "base_uri": "https://localhost:8080/"
        },
        "id": "NGlICfr0ezRt",
        "outputId": "377562ff-7c46-469c-872b-217a0b2b0951"
      },
      "execution_count": null,
      "outputs": [
        {
          "output_type": "stream",
          "name": "stdout",
          "text": [
            "555555\n",
            "6\n"
          ]
        }
      ]
    },
    {
      "cell_type": "markdown",
      "source": [
        "Part 7:\n",
        "Print the following pattern"
      ],
      "metadata": {
        "id": "j1Bo5nzkgjoi"
      }
    },
    {
      "cell_type": "code",
      "source": [
        "n = int(input())\n",
        "for i in range(n,0, -1):\n",
        "  k = i\n",
        "  for j in range (i):\n",
        "    print('{0} '.format(k), end='')\n",
        "    k-=1\n",
        "  print('')"
      ],
      "metadata": {
        "colab": {
          "base_uri": "https://localhost:8080/"
        },
        "id": "RqbBhAF0gllA",
        "outputId": "6bc62814-fb16-4b88-bc70-9774f9d15526"
      },
      "execution_count": null,
      "outputs": [
        {
          "output_type": "stream",
          "name": "stdout",
          "text": [
            "5\n",
            "5 4 3 2 1 \n",
            "4 3 2 1 \n",
            "3 2 1 \n",
            "2 1 \n",
            "1 \n"
          ]
        }
      ]
    },
    {
      "cell_type": "markdown",
      "source": [
        "Part 8:\n",
        "Print list in reverse order using a loop"
      ],
      "metadata": {
        "id": "NXrLh6VTp4ZW"
      }
    },
    {
      "cell_type": "code",
      "source": [
        "list1 = [10, 20, 30, 40, 50]\n",
        "for i in range(len(list1) -1,-1, -1):\n",
        "  #print(i)\n",
        "  print(list1[i])"
      ],
      "metadata": {
        "colab": {
          "base_uri": "https://localhost:8080/"
        },
        "id": "ARBrWAw3p-kF",
        "outputId": "3833ea6a-e1cb-4c77-aa97-98193bf37d2d"
      },
      "execution_count": null,
      "outputs": [
        {
          "output_type": "stream",
          "name": "stdout",
          "text": [
            "50\n",
            "40\n",
            "30\n",
            "20\n",
            "10\n"
          ]
        }
      ]
    },
    {
      "cell_type": "markdown",
      "source": [
        "Part 9:\n",
        "Display numbers from -10 to -1 using for loop "
      ],
      "metadata": {
        "id": "b_SJRSBgriK5"
      }
    },
    {
      "cell_type": "code",
      "source": [
        "for i in range(-10,0,1):\n",
        "  print(i)"
      ],
      "metadata": {
        "colab": {
          "base_uri": "https://localhost:8080/"
        },
        "id": "sDsYhr_HwcQu",
        "outputId": "a65f1551-d975-4202-f369-7a00f6df370f"
      },
      "execution_count": null,
      "outputs": [
        {
          "output_type": "stream",
          "name": "stdout",
          "text": [
            "-10\n",
            "-9\n",
            "-8\n",
            "-7\n",
            "-6\n",
            "-5\n",
            "-4\n",
            "-3\n",
            "-2\n",
            "-1\n"
          ]
        }
      ]
    },
    {
      "cell_type": "markdown",
      "source": [
        "Part 10:\n",
        "Use else block to display a message “Done” after successful execution of for loop"
      ],
      "metadata": {
        "id": "Tn7ET4cDxAuE"
      }
    },
    {
      "cell_type": "code",
      "source": [
        "n= int(input())\n",
        "for i in range(n):\n",
        "  print(i)\n",
        "else :\n",
        "  print('Done!')"
      ],
      "metadata": {
        "colab": {
          "base_uri": "https://localhost:8080/"
        },
        "id": "K9oudxZxxCub",
        "outputId": "91e45a9e-2aac-484c-a07a-0de04fe48e9c"
      },
      "execution_count": null,
      "outputs": [
        {
          "output_type": "stream",
          "name": "stdout",
          "text": [
            "5\n",
            "0\n",
            "1\n",
            "2\n",
            "3\n",
            "4\n",
            "Done!\n"
          ]
        }
      ]
    },
    {
      "cell_type": "markdown",
      "source": [
        "Part 11:\n",
        "Write a program to display all prime numbers within a range\n"
      ],
      "metadata": {
        "id": "CFLYvch6yNsC"
      }
    },
    {
      "cell_type": "code",
      "source": [
        "\n",
        "start = int(input('start = '))\n",
        "end = int(input('end = '))\n",
        "print('Prime number between 25 and 50 are: ')\n",
        "for i in range(start,end):\n",
        "  not_prime = False\n",
        "  for j in range(2,i):\n",
        "    if ((i %j) == 0) :\n",
        "      not_prime = True\n",
        "      break\n",
        "      \n",
        "\n",
        "  if(not_prime == False):\n",
        "    print(i)\n",
        "  "
      ],
      "metadata": {
        "colab": {
          "base_uri": "https://localhost:8080/"
        },
        "id": "TByOVhmjDqd9",
        "outputId": "2780a54e-0698-4309-afa5-8f2a0e7f8f47"
      },
      "execution_count": null,
      "outputs": [
        {
          "output_type": "stream",
          "name": "stdout",
          "text": [
            "start = 25\n",
            "end = 50\n",
            "Prime number between 25 and 50 are: \n",
            "29\n",
            "31\n",
            "37\n",
            "41\n",
            "43\n",
            "47\n"
          ]
        }
      ]
    },
    {
      "cell_type": "markdown",
      "source": [
        "Part 12:\n",
        "Display Fibonacci series up to 10 terms"
      ],
      "metadata": {
        "id": "Sbdm8BPC10Il"
      }
    },
    {
      "cell_type": "code",
      "source": [
        "fibonacci = [0 , 1]\n",
        "for i in range(2,10):\n",
        "  fibonacci.append((fibonacci[i-2]+fibonacci[i-1]))\n",
        "\n",
        "print('Fibonacci sequence \\n')\n",
        "print(* fibonacci)\n"
      ],
      "metadata": {
        "colab": {
          "base_uri": "https://localhost:8080/"
        },
        "id": "8ZsOsuz_elQr",
        "outputId": "a174f8d4-3378-4aa1-e0e5-89fe6d5e2bda"
      },
      "execution_count": null,
      "outputs": [
        {
          "output_type": "stream",
          "name": "stdout",
          "text": [
            "Fibonacci sequence \n",
            "\n",
            "0 1 1 2 3 5 8 13 21 34\n"
          ]
        }
      ]
    },
    {
      "cell_type": "markdown",
      "source": [
        "Part 13:\n",
        "Find the factorial of a given number"
      ],
      "metadata": {
        "id": "DFm5tFt0x91a"
      }
    },
    {
      "cell_type": "code",
      "source": [
        "nbr = int(input())\n",
        "factorial = 1\n",
        "for i in range(nbr,1, -1):\n",
        "  factorial*= i\n",
        "\n",
        "print(factorial)"
      ],
      "metadata": {
        "colab": {
          "base_uri": "https://localhost:8080/"
        },
        "id": "kKpMRp3ByIoT",
        "outputId": "bd9088e6-d8eb-40af-cac5-2bd6b350c062"
      },
      "execution_count": null,
      "outputs": [
        {
          "output_type": "stream",
          "name": "stdout",
          "text": [
            "5\n",
            "120\n"
          ]
        }
      ]
    },
    {
      "cell_type": "markdown",
      "source": [
        "Part 14:\n",
        "Reverse a given integer number"
      ],
      "metadata": {
        "id": "C7h6L-avGhHk"
      }
    },
    {
      "cell_type": "code",
      "source": [
        "str_numbr = str(input())\n",
        "limit_range = len(str_numbr) - 1\n",
        "inverse_str =[]\n",
        "\n",
        "for i in range(limit_range, -1, -1):\n",
        "  \n",
        "  inverse_str.append(str_numbr[i]) \n",
        "  \n",
        "#print(inverse_str)\n",
        "inverse_str = \"\".join(inverse_str)\n",
        "print(int(inverse_str))\n"
      ],
      "metadata": {
        "colab": {
          "base_uri": "https://localhost:8080/"
        },
        "id": "dWSyTlAhGpIn",
        "outputId": "4ac31234-e3f9-47f5-b79f-b2aea55b1995"
      },
      "execution_count": null,
      "outputs": [
        {
          "output_type": "stream",
          "name": "stdout",
          "text": [
            "65598\n",
            "89556\n"
          ]
        }
      ]
    },
    {
      "cell_type": "markdown",
      "source": [
        "Part 15:\n",
        "Use a loop to display elements from a given list present at odd index positions"
      ],
      "metadata": {
        "id": "aIL-EOhHPUMG"
      }
    },
    {
      "cell_type": "code",
      "source": [
        "my_list = [10, 20, 30, 40, 50, 60, 70, 80, 90, 100]\n",
        "for i in range(len(my_list)):\n",
        "  if (i%2 != 0):\n",
        "    print(str(my_list[i]) + ' ' ,end ='')\n"
      ],
      "metadata": {
        "colab": {
          "base_uri": "https://localhost:8080/"
        },
        "id": "RJ4JZXQ3PdkU",
        "outputId": "2d9e2437-e0f3-48cc-c4f6-4551aec8f2d1"
      },
      "execution_count": null,
      "outputs": [
        {
          "output_type": "stream",
          "name": "stdout",
          "text": [
            "20 40 60 80 100 "
          ]
        }
      ]
    },
    {
      "cell_type": "markdown",
      "source": [
        "Part 16:\n",
        "Calculate the cube of all numbers from 1 to a given number"
      ],
      "metadata": {
        "id": "II1J-y6JVraJ"
      }
    },
    {
      "cell_type": "code",
      "source": [
        "input_number = int(input())\n",
        "for i in range(1, input_number+1):\n",
        "  print('Current number is : {0} and the cube is : {1}'.format(i, i**3))"
      ],
      "metadata": {
        "colab": {
          "base_uri": "https://localhost:8080/"
        },
        "id": "mT4ycZNuWTnl",
        "outputId": "f1c9bfa0-8e26-4f8b-f408-df2ae312c09e"
      },
      "execution_count": null,
      "outputs": [
        {
          "output_type": "stream",
          "name": "stdout",
          "text": [
            "5\n",
            "Current number is : 1 and the cube is : 1\n",
            "Current number is : 2 and the cube is : 8\n",
            "Current number is : 3 and the cube is : 27\n",
            "Current number is : 4 and the cube is : 64\n",
            "Current number is : 5 and the cube is : 125\n"
          ]
        }
      ]
    },
    {
      "cell_type": "markdown",
      "source": [
        "Part 17: \n",
        "Find the sum of the series upto n terms"
      ],
      "metadata": {
        "id": "KN-8pMCqgN4W"
      }
    },
    {
      "cell_type": "code",
      "source": [
        "n = int(input())\n",
        "generated_str = \"\"\n",
        "sum = 0\n",
        "for i in range(1, n+1):\n",
        "  \n",
        "  generated_str+= \"2\"\n",
        "  generated_nbr = int(generated_str)\n",
        "  sum+= generated_nbr\n",
        "\n",
        "\n",
        "print(sum)"
      ],
      "metadata": {
        "colab": {
          "base_uri": "https://localhost:8080/"
        },
        "id": "Tx7Rwrf9gU64",
        "outputId": "1cd21203-8b74-4f1a-cb5f-30ce3f220bec"
      },
      "execution_count": null,
      "outputs": [
        {
          "output_type": "stream",
          "name": "stdout",
          "text": [
            "5\n",
            "24690\n"
          ]
        }
      ]
    },
    {
      "cell_type": "markdown",
      "source": [
        "Part 18:\n",
        "Print the following pattern"
      ],
      "metadata": {
        "id": "AiH5yasXuc4G"
      }
    },
    {
      "cell_type": "code",
      "source": [
        "n = int(input())\n",
        "\n",
        "k =\"\"\n",
        "for i in range(n):\n",
        "  k+= \"* \"\n",
        "  print(k)\n",
        "\n",
        "for i in range(n,0, -1):\n",
        "  for j in range (i-1):\n",
        "    print(\"* \", end='')\n",
        "  print('')\n"
      ],
      "metadata": {
        "colab": {
          "base_uri": "https://localhost:8080/"
        },
        "id": "CiUERleiukyH",
        "outputId": "a8550aa6-5589-4165-8046-4412bc367f18"
      },
      "execution_count": null,
      "outputs": [
        {
          "output_type": "stream",
          "name": "stdout",
          "text": [
            "6\n",
            "* \n",
            "* * \n",
            "* * * \n",
            "* * * * \n",
            "* * * * * \n",
            "* * * * * * \n",
            "* * * * * \n",
            "* * * * \n",
            "* * * \n",
            "* * \n",
            "* \n",
            "\n"
          ]
        }
      ]
    }
  ]
}